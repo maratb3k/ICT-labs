{
 "cells": [
  {
   "cell_type": "code",
   "execution_count": null,
   "metadata": {},
   "outputs": [],
   "source": [
    "# PROBLEM 1\n",
    "print(\"Assemay Maratbek\")  \n",
    "print(\"a_maratbek@kbtu.kz\")"
   ]
  },
  {
   "cell_type": "code",
   "execution_count": null,
   "metadata": {},
   "outputs": [],
   "source": [
    "# PROBLEM 2\n",
    "name = input()    \n",
    "print(\"Hello, \" + name)"
   ]
  },
  {
   "cell_type": "code",
   "execution_count": null,
   "metadata": {},
   "outputs": [],
   "source": [
    "# PROBLEM 3\n",
    "a = float(input())\n",
    "b = float(input())     \n",
    "area = float(a) * float(b)\n",
    "print(area, \"m\")"
   ]
  },
  {
   "cell_type": "code",
   "execution_count": null,
   "metadata": {},
   "outputs": [],
   "source": [
    "# PROBLEM 4\n",
    "length = input()\n",
    "width = input()                        \n",
    "area = int(length) * int(width)\n",
    "print(area/43650)"
   ]
  },
  {
   "cell_type": "code",
   "execution_count": null,
   "metadata": {},
   "outputs": [],
   "source": [
    "# PROBLEM 5\n",
    "small = int(input())\n",
    "large = int(input())\n",
    "total = (small * 0.10) + (large * 0.25)\n",
    "print(\"The total refund for returning the containers is $\" + \"{0:.2f}\".format(float(total)))"
   ]
  },
  {
   "cell_type": "code",
   "execution_count": null,
   "metadata": {},
   "outputs": [],
   "source": [
    "# PROBLEM 6\n",
    "cost = float(input())\n",
    "tax = cost * 0.05\n",
    "tip = cost * 0.18\n",
    "total = tax + tip\n",
    "print(tax, tip, total)"
   ]
  },
  {
   "cell_type": "code",
   "execution_count": null,
   "metadata": {},
   "outputs": [],
   "source": [
    "# PROBLEM 7\n",
    "n = int(input()) #7\n",
    "print(n*(n+1)*2)"
   ]
  },
  {
   "cell_type": "code",
   "execution_count": null,
   "metadata": {},
   "outputs": [],
   "source": [
    "# PROBLEM 8\n",
    "widget = int(input())\n",
    "gizmos = int(input())\n",
    "total = widget * 75 + gizmos * 112\n",
    "print(total)"
   ]
  },
  {
   "cell_type": "code",
   "execution_count": null,
   "metadata": {},
   "outputs": [],
   "source": [
    "# PROBLEM 9\n",
    "money = int(input())\n",
    "sm = money * 0.04\n",
    "print(\"1 year: {:.2f}\".format(sm))\n",
    "print(\"2 year: {:.2f}\".format(2 * sm))\n",
    "print(\"3 year: {:.2f}\".format(3 * sm))"
   ]
  },
  {
   "cell_type": "code",
   "execution_count": null,
   "metadata": {},
   "outputs": [],
   "source": [
    "# PROBLEM 10\n",
    "import math\n",
    "a = int(input())\n",
    "b = int(input())\n",
    "print(a+b)\n",
    "print(a-b)\n",
    "print(a*b)                   \n",
    "print(a//b)\n",
    "print(a%b)\n",
    "print(math.log10(a))"
   ]
  },
  {
   "cell_type": "code",
   "execution_count": null,
   "metadata": {},
   "outputs": [],
   "source": [
    "# PROBLEM 11\n",
    "a = input()\n",
    "print(int(a) * 235.215)"
   ]
  },
  {
   "cell_type": "code",
   "execution_count": null,
   "metadata": {},
   "outputs": [],
   "source": [
    "# PROBLEM 12\n",
    "import math\n",
    "t1 = int(input())\n",
    "t2 = int(input())\n",
    "g1 = int(input())\n",
    "g2 = int(input())\n",
    "distance = 6371.01 * math.acos(math.sin(math.radians(t1)) * math.sin(math.radians(t2)) + math.cos(math.radians(t1))* math.cos(math.radians(t2)) * math.cos(math.radians(g1 - g2)))\n",
    "print(distance)"
   ]
  },
  {
   "cell_type": "code",
   "execution_count": null,
   "metadata": {},
   "outputs": [],
   "source": [
    "# PROBLEM 13 \n",
    "penny = 1\n",
    "nickel = 5\n",
    "dime = 10\n",
    "quarter = 25\n",
    "loonies = 14\n",
    "toonies = 20\n",
    "pennys = 0\n",
    "dimes = 0\n",
    "nickels = 0\n",
    "quarter = 0\n",
    "loonies = 0\n",
    "toonies = 0\n",
    "cents = int(input(\"Enter an amount of money you have in cents:\"))\n",
    "if cents >= 20:\n",
    "    toonies = cents / toonies\n",
    "    cents % toonies\n",
    "if cents >= 14:\n",
    "    loonies = cents / loonies\n",
    "    cents % loonies\n",
    "if cents >= 25:\n",
    "    quarter = cents / quarter"
   ]
  },
  {
   "cell_type": "code",
   "execution_count": null,
   "metadata": {},
   "outputs": [],
   "source": [
    "# PROBLEM 14\n",
    "m = int(input())\n",
    "inches = m * 12\n",
    "cm = inches * 2.54\n",
    "print(\"%d inches and %d cm\"%(inches, cm))"
   ]
  },
  {
   "cell_type": "code",
   "execution_count": null,
   "metadata": {},
   "outputs": [],
   "source": [
    "# PROBLEM 15\n",
    "a = input()\n",
    "print((int(a) * 12), \"inches\")\n",
    "print((int(a) / 3 ), \"yards\")\n",
    "print((int(a) / 5280), \"miles\")"
   ]
  },
  {
   "cell_type": "code",
   "execution_count": null,
   "metadata": {},
   "outputs": [],
   "source": [
    "# PROBLEM 16\n",
    "radius = input()\n",
    "import math\n",
    "area = math.pi * (int(radius)**2)\n",
    "volume = (4*math.pi*(int(radius) ** 3))/3\n",
    "print(area,  volume)"
   ]
  },
  {
   "cell_type": "code",
   "execution_count": null,
   "metadata": {},
   "outputs": [],
   "source": [
    "# PROBLEM 17\n",
    "m = int(input())\n",
    "t = int(input())\n",
    "q = m * 4.186 * t\n",
    "kw = (q / 3600000) * 8.9\n",
    "print(\"q = %d and the cost of boiling water = %d\"%(q, kw))"
   ]
  },
  {
   "cell_type": "code",
   "execution_count": null,
   "metadata": {},
   "outputs": [],
   "source": [
    "# PROBLEM 18 \n",
    "import math\n",
    "radius = input()\n",
    "height = input()\n",
    "volume = math.pi * (int(radius)**2) * int(height)\n",
    "print(volume)"
   ]
  },
  {
   "cell_type": "code",
   "execution_count": null,
   "metadata": {},
   "outputs": [],
   "source": [
    "# PROBLEM 19\n",
    "height = input()\n",
    "initv = 0\n",
    "acceleration = 9.8\n",
    "finv = (initv**2) + int(height) * acceleration * 2\n",
    "print(finv)"
   ]
  },
  {
   "cell_type": "code",
   "execution_count": null,
   "metadata": {},
   "outputs": [],
   "source": [
    "# PROBLEM 20\n",
    "pressure = float(input())\n",
    "volume = float(input())\n",
    "temperature = float(input())\n",
    "r = 8.314\n",
    "n = (pressure*volume)/(r*temperature)\n",
    "print(n)"
   ]
  },
  {
   "cell_type": "code",
   "execution_count": null,
   "metadata": {},
   "outputs": [],
   "source": [
    "# PROBLEM 21\n",
    "b = input()\n",
    "h = input()\n",
    "area = int(b) * int(h) / 2\n",
    "print(area)"
   ]
  },
  {
   "cell_type": "code",
   "execution_count": null,
   "metadata": {},
   "outputs": [],
   "source": [
    "# PROBLEM 22\n",
    "import math\n",
    "s1 = float(input())\n",
    "s2 = float(input())\n",
    "s3 = float(input())\n",
    "s = (s1 + s2 + s3) / 2\n",
    "area = math.sqrt(s * (s - s1) * (s - s2) * (s - s3))\n",
    "print(area)"
   ]
  },
  {
   "cell_type": "code",
   "execution_count": null,
   "metadata": {},
   "outputs": [],
   "source": [
    "# PROBLEM 23\n",
    "import math\n",
    "s = float(input())\n",
    "n = float(input())\n",
    "area = n * ((s**2) / (4 * math.tan(3.14/n)))\n",
    "print(area)"
   ]
  },
  {
   "cell_type": "code",
   "execution_count": null,
   "metadata": {},
   "outputs": [],
   "source": [
    "# PROBLEM 24\n",
    "day = int(input())\n",
    "hour = int(input())\n",
    "minute = int(input())\n",
    "second = int(input())\n",
    "print((day*86400) + (hour * 3600) + (minute * 60) + second)"
   ]
  },
  {
   "cell_type": "code",
   "execution_count": null,
   "metadata": {},
   "outputs": [],
   "source": [
    "# PROBLEM 25\n",
    "from datetime import datetime, timedelta\n",
    "seconds = int(input())\n",
    "sec = timedelta(seconds)\n",
    "d = datetime(1,1,1) + sec\n",
    "print(\"%d:%d:%d:%d\" % (d.day-1, d.hour, d.minute, d.second))"
   ]
  },
  {
   "cell_type": "code",
   "execution_count": null,
   "metadata": {},
   "outputs": [],
   "source": [
    "# PROBLEM 26\n",
    "import time\n",
    "print(time.asctime())"
   ]
  },
  {
   "cell_type": "code",
   "execution_count": null,
   "metadata": {},
   "outputs": [],
   "source": [
    "# PROBLEM 27\n",
    "height = int(input())\n",
    "weight = int(input())\n",
    "bmi = weight / (height**2) * 703\n",
    "print(bmi)"
   ]
  },
  {
   "cell_type": "code",
   "execution_count": null,
   "metadata": {},
   "outputs": [],
   "source": [
    "# PROBLEM 28\n",
    "temperature = float(input())\n",
    "speed = float(input())\n",
    "wci = 13.12 + 0.6215 * temperature - 11.37 * (speed ** 0.16) + 0.3965 * temperature * (speed ** 0.16)\n",
    "print(wci)"
   ]
  },
  {
   "cell_type": "code",
   "execution_count": null,
   "metadata": {},
   "outputs": [],
   "source": [
    "# PROBLEM 29\n",
    "celsius = float(input())\n",
    "fahrenheit = celsius * 9 / 5 + 32\n",
    "kelvin = celsius + 273.15\n",
    "print(fahrenheit, kelvin)"
   ]
  },
  {
   "cell_type": "code",
   "execution_count": null,
   "metadata": {},
   "outputs": [],
   "source": [
    "# PROBLEM 30\n",
    "pressure = int(input())\n",
    "poundspersq = pressure / 6895\n",
    "milim = pressure * 7501\n",
    "atmos = pressure / 101\n",
    "print(poundspersq, milim, atmos)"
   ]
  },
  {
   "cell_type": "code",
   "execution_count": null,
   "metadata": {},
   "outputs": [],
   "source": [
    "# PROBLEM 31\n",
    "cnt = 0\n",
    "for i in range(4):\n",
    "    i  = int(input())\n",
    "    cnt += i\n",
    "print(cnt)"
   ]
  },
  {
   "cell_type": "code",
   "execution_count": null,
   "metadata": {},
   "outputs": [],
   "source": [
    "# PROBLEM 32\n",
    "a = int(input())\n",
    "b = int(input())\n",
    "c = int(input())\n",
    "maxi = max(a,b,c)\n",
    "mini = min(a,b,c)\n",
    "mid = a + b + c - mini - maxi\n",
    "print(maxi, mid, mini)"
   ]
  },
  {
   "cell_type": "code",
   "execution_count": null,
   "metadata": {},
   "outputs": [],
   "source": [
    "# PROBLEM 33\n",
    "n = int(input())\n",
    "pr = n * 3.49\n",
    "d = n * 3.49 * 0.6\n",
    "print(\"the regular price = {:.2f}\".format(pr))\n",
    "print(\"the discount = {:.2f}\".format(pr - d))\n",
    "print(\"total = {:.2f}\".format(d))"
   ]
  }
 ],
 "metadata": {
  "kernelspec": {
   "display_name": "Python 3",
   "language": "python",
   "name": "python3"
  },
  "language_info": {
   "codemirror_mode": {
    "name": "ipython",
    "version": 3
   },
   "file_extension": ".py",
   "mimetype": "text/x-python",
   "name": "python",
   "nbconvert_exporter": "python",
   "pygments_lexer": "ipython3",
   "version": "3.8.1"
  }
 },
 "nbformat": 4,
 "nbformat_minor": 4
}
