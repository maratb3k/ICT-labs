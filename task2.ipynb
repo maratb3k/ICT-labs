{
 "cells": [
  {
   "cell_type": "code",
   "execution_count": 6,
   "metadata": {},
   "outputs": [
    {
     "name": "stdout",
     "output_type": "stream",
     "text": [
      "4\n",
      "4\n",
      "5\n",
      "5\n",
      "No\n"
     ]
    }
   ],
   "source": [
    "### PROBLEM 1\n",
    "x1 = int(input())\n",
    "y1 = int(input())\n",
    "x2 = int(input())\n",
    "y2 = int(input())\n",
    "if(x1==x2 or y1==y2):\n",
    "    print(\"Yes\")\n",
    "else:\n",
    "    print(\"No\")"
   ]
  },
  {
   "cell_type": "code",
   "execution_count": 7,
   "metadata": {},
   "outputs": [
    {
     "name": "stdout",
     "output_type": "stream",
     "text": [
      "4\n",
      "4\n",
      "5\n",
      "5\n",
      "YES\n"
     ]
    }
   ],
   "source": [
    "### PROBLEM 2\n",
    "x1 = int(input())\n",
    "y1 = int(input())\n",
    "x2 = int(input())\n",
    "y2 = int(input())\n",
    "difx = x1-x2\n",
    "dify = y1-y2\n",
    "if(difx == 1 or difx  == -1 or difx  == 0) and (dify == 1 or dify == -1 or dify == 0):\n",
    "    print (\"YES\")\n",
    "else:\n",
    "    print (\"NO\")"
   ]
  },
  {
   "cell_type": "code",
   "execution_count": 8,
   "metadata": {},
   "outputs": [
    {
     "name": "stdout",
     "output_type": "stream",
     "text": [
      "4\n",
      "4\n",
      "5\n",
      "5\n",
      "YES\n"
     ]
    }
   ],
   "source": [
    "### PROBLEM 3\n",
    "x1 = int(input())\n",
    "x2 = int(input())\n",
    "y1 = int(input())\n",
    "y2 = int(input())\n",
    "if (abs(x1-x2) == abs(y1 - y2)):\n",
    "    print(\"YES\");\n",
    "else:\n",
    "    print(\"NO\");"
   ]
  },
  {
   "cell_type": "code",
   "execution_count": 4,
   "metadata": {},
   "outputs": [
    {
     "name": "stdout",
     "output_type": "stream",
     "text": [
      "4\n",
      "4\n",
      "5\n",
      "5\n",
      "YES\n"
     ]
    }
   ],
   "source": [
    "### PROBLEM 4\n",
    "x1 = int(input())\n",
    "y1 = int(input())\n",
    "x2 = int(input())\n",
    "y2 = int(input())\n",
    "if ((abs(x1-x2) == abs(y1-y2)) or (x1 == x2) or (y1 == y2)):\n",
    "    print (\"YES\")\n",
    "else:\n",
    "    print (\"NO\")"
   ]
  },
  {
   "cell_type": "code",
   "execution_count": 10,
   "metadata": {},
   "outputs": [
    {
     "name": "stdout",
     "output_type": "stream",
     "text": [
      "4\n",
      "4\n",
      "5\n",
      "5\n",
      "NO\n"
     ]
    }
   ],
   "source": [
    "### PROBLEM 5\n",
    "x1 = int(input())\n",
    "y1 = int(input())\n",
    "x2 = int(input())\n",
    "y2 = int(input())\n",
    "if (x1 - 1 == x2 or x1 + 1 == x2) and (y1 - 2 == y2 or y1 + 2 == y2):\n",
    "    print (\"YES\")\n",
    "elif (x1 - 2 == x2 or x1 + 2 == x2) and (y1 - 1 == y2 or y1 + 1 == y2):\n",
    "    print (\"YES\")\n",
    "else:\n",
    "    print (\"NO\")"
   ]
  },
  {
   "cell_type": "code",
   "execution_count": 12,
   "metadata": {},
   "outputs": [
    {
     "name": "stdout",
     "output_type": "stream",
     "text": [
      "1\n",
      "2\n",
      "1\n",
      "1 1 2\n"
     ]
    }
   ],
   "source": [
    "### PROBLEM 8\n",
    "a = int(input())\n",
    "b = int(input())\n",
    "c = int(input())\n",
    "mini = min(a,b,c)\n",
    "maxi = max(a,b,c)\n",
    "if(a>mini and a<maxi):\n",
    "    middle = a\n",
    "if(b>mini and b<maxi):\n",
    "    middle = b\n",
    "else:\n",
    "    middle = c\n",
    "print(mini, middle, maxi)"
   ]
  },
  {
   "cell_type": "code",
   "execution_count": 15,
   "metadata": {},
   "outputs": [
    {
     "name": "stdout",
     "output_type": "stream",
     "text": [
      "1\n",
      "2\n",
      "3\n",
      "3\n",
      "2\n",
      "1\n",
      "Boxes are equal\n"
     ]
    }
   ],
   "source": [
    "### PROBLEM 9\n",
    "a1 = int(input())\n",
    "b1 = int(input())\n",
    "c1 = int(input())\n",
    "a2 = int(input())\n",
    "b2 = int(input())\n",
    "c2 = int(input())\n",
    "if((a1*b1*c1) > (a2*b2*c2)):\n",
    "    print(\"the first box is larger than the second one\")\n",
    "elif((a1*b1*c1) < (a2*b2*c2)):\n",
    "    print(\"the first box is smaller than the second one\")\n",
    "else:\n",
    "    print(\"Boxes are equal\")"
   ]
  },
  {
   "cell_type": "code",
   "execution_count": 25,
   "metadata": {},
   "outputs": [
    {
     "name": "stdout",
     "output_type": "stream",
     "text": [
      "50\n",
      "1 4 9 16 25 36 49 "
     ]
    }
   ],
   "source": [
    "### PROBLEM 10\n",
    "import math\n",
    "n = int(input())\n",
    "for i in range(1,int(math.sqrt(n)) + 1):\n",
    "    print(i*i, end=' ')"
   ]
  },
  {
   "cell_type": "code",
   "execution_count": 30,
   "metadata": {},
   "outputs": [
    {
     "name": "stdout",
     "output_type": "stream",
     "text": [
      "15\n",
      "3\n"
     ]
    }
   ],
   "source": [
    "### PROBLEM 11\n",
    "n = int(input())\n",
    "for i in range(2, n):\n",
    "    if n % i == 0:\n",
    "        print(i)\n",
    "        break;"
   ]
  },
  {
   "cell_type": "code",
   "execution_count": 32,
   "metadata": {},
   "outputs": [
    {
     "name": "stdout",
     "output_type": "stream",
     "text": [
      "50\n",
      "1 2 4 8 16 32 "
     ]
    }
   ],
   "source": [
    "### PROBLEM 12\n",
    "n = int(input())\n",
    "for i in range(n):\n",
    "    if(2**i < n):\n",
    "        print(2**i, end = ' ')"
   ]
  },
  {
   "cell_type": "code",
   "execution_count": 33,
   "metadata": {},
   "outputs": [
    {
     "name": "stdout",
     "output_type": "stream",
     "text": [
      "3\n",
      "6\n",
      "8\n",
      "0\n",
      "17\n"
     ]
    }
   ],
   "source": [
    "### PROBLEM 13\n",
    "cnt = 0\n",
    "while(n != 0):\n",
    "    n = int(input())\n",
    "    cnt+=n\n",
    "print(cnt)"
   ]
  },
  {
   "cell_type": "code",
   "execution_count": 49,
   "metadata": {},
   "outputs": [
    {
     "name": "stdout",
     "output_type": "stream",
     "text": [
      "0\n"
     ]
    }
   ],
   "source": [
    "### PROBLEM 14\n",
    "array = []\n",
    "maxi = 0\n",
    "cnt = 0\n",
    "while True:\n",
    "    n = int(input())\n",
    "    if n == 0:\n",
    "        break\n",
    "    array.append(n)\n",
    "for i in range(len(array)):\n",
    "    if(array[i] > maxi):\n",
    "        maxi = array[i]\n",
    "        cnt = 1\n",
    "    elif(array[i] == maxi):\n",
    "        cnt += 1\n",
    "print(cnt)"
   ]
  },
  {
   "cell_type": "code",
   "execution_count": null,
   "metadata": {},
   "outputs": [],
   "source": [
    "### PROBLEM 15\n",
    "A = int(input())\n",
    "if n == 0:\n",
    "    print(0)\n",
    "else:\n",
    "    "
   ]
  },
  {
   "cell_type": "code",
   "execution_count": 57,
   "metadata": {},
   "outputs": [],
   "source": [
    "### PROBLEM 16\n",
    "array = []\n",
    "maxi = 0\n",
    "cnt = 0\n",
    "while True:\n",
    "    n = int(input())\n",
    "    if n == 0:\n",
    "        break\n",
    "    array.append(n)\n",
    "for i in range(1, len(array) - 1):\n",
    "    if(array[i] > array[i-1] and array[i] > array[i+1]):\n",
    "        maxi = array[i]\n",
    "        cnt += 1\n",
    "print(cnt)"
   ]
  },
  {
   "cell_type": "code",
   "execution_count": null,
   "metadata": {},
   "outputs": [],
   "source": [
    "### PROBLEM 17\n",
    "size = int(input())\n",
    "string = input().split()\n",
    "array = []\n",
    "newarray = set()\n",
    "for i in string:\n",
    "    if(i != ' '):\n",
    "        array.append(int(i))\n",
    "for i in array:\n",
    "    newarray.add(i)\n",
    "print(len(newarray))"
   ]
  },
  {
   "cell_type": "code",
   "execution_count": null,
   "metadata": {},
   "outputs": [],
   "source": [
    "### PROBLEM 18\n",
    "size = int(input())\n",
    "array = []\n",
    "string = input().split()\n",
    "for i in string:\n",
    "    if(i != ' '):\n",
    "        array.append(int(i))\n",
    "last = array[size - 1]\n",
    "for i in range(size-1, 0, -1):\n",
    "    array[i] = array[i-1]\n",
    "array[0] = last\n",
    "for i in range(size):\n",
    "    print(array[i]) "
   ]
  },
  {
   "cell_type": "code",
   "execution_count": null,
   "metadata": {},
   "outputs": [],
   "source": [
    "### PROBLEM 19\n",
    "size = int(input())\n",
    "array = list(input())\n",
    "cnt = 0\n",
    "for i in range(size):\n",
    "    for j in (i + 1, size):\n",
    "        if(array[i] == array[j]):\n",
    "            cnt += 1\n",
    "print(cnt)\n"
   ]
  }
 ],
 "metadata": {
  "kernelspec": {
   "display_name": "Python 3",
   "language": "python",
   "name": "python3"
  },
  "language_info": {
   "codemirror_mode": {
    "name": "ipython",
    "version": 3
   },
   "file_extension": ".py",
   "mimetype": "text/x-python",
   "name": "python",
   "nbconvert_exporter": "python",
   "pygments_lexer": "ipython3",
   "version": "3.8.1"
  }
 },
 "nbformat": 4,
 "nbformat_minor": 4
}
